{
  "nbformat": 4,
  "nbformat_minor": 0,
  "metadata": {
    "colab": {
      "provenance": []
    },
    "kernelspec": {
      "name": "python3",
      "display_name": "Python 3"
    },
    "language_info": {
      "name": "python"
    }
  },
  "cells": [
    {
      "cell_type": "code",
      "execution_count": 1,
      "metadata": {
        "colab": {
          "base_uri": "https://localhost:8080/"
        },
        "id": "fukO_94z_MmX",
        "outputId": "8763605c-f9bf-4601-ee04-1d2a59ec1b00"
      },
      "outputs": [
        {
          "output_type": "execute_result",
          "data": {
            "text/plain": [
              "47"
            ]
          },
          "metadata": {},
          "execution_count": 1
        }
      ],
      "source": [
        "import numpy as np\n",
        "A=np.array([[0,1],[2,3],[4,5]])\n",
        "B=np.array([[0,1,2,3],[4,5,6,7]])\n",
        "np.dot(A,B).max()"
      ]
    },
    {
      "cell_type": "code",
      "source": [
        "\n"
      ],
      "metadata": {
        "id": "tucHeuFu_p8t"
      },
      "execution_count": null,
      "outputs": []
    }
  ]
}