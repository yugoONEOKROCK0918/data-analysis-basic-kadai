{
 "cells": [
  {
   "cell_type": "code",
   "execution_count": null,
   "id": "1b40dd07",
   "metadata": {},
   "outputs": [],
   "source": [
    "import matplotlib.pyplot as plt\n",
    "import numpy as np\n",
    "import japanize_matplotlib\n",
    "\n",
    "category_counts = df[\"カテゴリー\"].value_counts()\n",
    "print(category_counts)\n",
    "\n",
    "category_counts.plot(kind='bar')\n",
    "\n",
    "plt.title(\"カテゴリーごとの出現頻度\")\n",
    "plt.xlabel(\"カテゴリー\")\n",
    "plt.ylabel(\"頻度\")\n",
    "\n",
    "plt.xticks(rotation=0)\n",
    "\n",
    "plt.show()\n",
    "\n",
    "yugo=df.groupby(\"商品番号\")[\"注文数\"].describe()\n",
    "yugo\n"
   ]
  }
 ],
 "metadata": {},
 "nbformat": 4,
 "nbformat_minor": 5
}
